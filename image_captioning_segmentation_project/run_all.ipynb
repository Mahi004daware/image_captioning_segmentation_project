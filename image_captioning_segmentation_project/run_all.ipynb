# Jupyter Notebook for combined pipeline
